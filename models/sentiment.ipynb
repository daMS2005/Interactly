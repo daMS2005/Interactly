{
  "cells": [
    {
      "cell_type": "code",
      "execution_count": null,
      "id": "97cd856f",
      "metadata": {
        "colab": {
          "base_uri": "https://localhost:8080/"
        },
        "id": "97cd856f",
        "outputId": "df598810-c7ff-4d8d-fd6d-bae3680fb27b"
      },
      "outputs": [
        {
          "output_type": "stream",
          "name": "stdout",
          "text": [
            "Libraries imported successfully.\n",
            "Using GPU: Tesla T4\n"
          ]
        }
      ],
      "source": [
        "import pandas as pd\n",
        "import torch\n",
        "from sklearn.model_selection import train_test_split\n",
        "from sklearn.metrics import accuracy_score, precision_recall_fscore_support\n",
        "from datasets import Dataset, DatasetDict\n",
        "from transformers import (\n",
        "    AutoTokenizer,\n",
        "    AutoModelForSequenceClassification,\n",
        "    TrainingArguments,\n",
        "    Trainer,\n",
        "    pipeline\n",
        ")\n",
        "import numpy as np\n",
        "import warnings\n",
        "\n",
        "warnings.filterwarnings(\"ignore\") # Optional: Hide warnings\n",
        "\n",
        "print(\"Libraries imported successfully.\")\n",
        "\n",
        "# Check available device (GPU/MPS/CPU)\n",
        "if torch.cuda.is_available():\n",
        "    device = torch.device(\"cuda\")\n",
        "    print(f\"Using GPU: {torch.cuda.get_device_name(0)}\")\n",
        "elif torch.backends.mps.is_available():\n",
        "    device = torch.device(\"mps\")\n",
        "    print(\"Using MPS (Apple Silicon GPU)\")\n",
        "else:\n",
        "    device = torch.device(\"cpu\")\n",
        "    print(\"Using CPU\")"
      ]
    },
    {
      "cell_type": "code",
      "execution_count": null,
      "id": "ad6c0c05",
      "metadata": {
        "id": "ad6c0c05"
      },
      "outputs": [],
      "source": [
        "csv_file_path = 'sentiment_analysis_100k.csv'\n",
        "text_column = 'Text'\n",
        "score_column = 'Score'\n",
        "\n",
        "model_name = 'distilbert-base-uncased'\n",
        "# model_name = 'bert-base-uncased'\n",
        "\n",
        "# Training parameters\n",
        "# Training parameters\n",
        "output_dir = './rating_model_100k_results' # Changed dir name for this run\n",
        "logging_dir = './rating_model_100k_logs'   # Changed dir name for this run\n",
        "\n",
        "# Keep epochs at 3 as decided previously\n",
        "num_train_epochs = 3\n",
        "\n",
        "# ***** CHANGED: Increased batch sizes for potentially faster training *****\n",
        "per_device_train_batch_size = 128 # Originally 16\n",
        "per_device_eval_batch_size = 256  # Originally 32\n",
        "\n",
        "learning_rate = 2e-5 # Standard learning rate, keep unless tuning later\n",
        "weight_decay = 0.01  # Standard weight decay\n",
        "\n",
        "test_size = 0.2\n",
        "random_state = 42 # For reproducibility\n",
        "\n",
        "# --- Label Mapping (remains the same for 1-5 stars) ---\n",
        "num_labels = 5 # 5 classes for scores 1-5"
      ]
    },
    {
      "cell_type": "code",
      "execution_count": null,
      "id": "f607b33d",
      "metadata": {
        "colab": {
          "base_uri": "https://localhost:8080/"
        },
        "id": "f607b33d",
        "outputId": "818d304a-163e-42a4-c66e-820cad8a2433"
      },
      "outputs": [
        {
          "output_type": "stream",
          "name": "stdout",
          "text": [
            "Successfully loaded data from sentiment_analysis_100k.csv\n",
            "Dataset shape: (100000, 2)\n",
            "\n",
            "First 5 rows:\n",
            "   Score                                               Text\n",
            "0      1  These Grape Leaves are very thick and veiny an...\n",
            "1      1  I ordered this product and only received one b...\n",
            "2      1  I've been buying ZICO with mango in 11.2 oz. t...\n",
            "3      1  I am no stranger to health foods and even use ...\n",
            "4      1  Fisher Macadamia Nut No Salt, 2-Pound Package....\n",
            "\n",
            "Score distribution:\n",
            "Score\n",
            "1    20000\n",
            "2    20000\n",
            "3    20000\n",
            "4    20000\n",
            "5    20000\n",
            "Name: count, dtype: int64\n"
          ]
        }
      ],
      "source": [
        "try:\n",
        "    df = pd.read_csv(csv_file_path)\n",
        "    print(f\"Successfully loaded data from {csv_file_path}\")\n",
        "    print(f\"Dataset shape: {df.shape}\")\n",
        "    print(\"\\nFirst 5 rows:\")\n",
        "    print(df.head())\n",
        "    print(\"\\nScore distribution:\")\n",
        "    print(df[score_column].value_counts())\n",
        "except FileNotFoundError:\n",
        "    print(f\"Error: File not found at {csv_file_path}. Please check the path.\")\n",
        "except Exception as e:\n",
        "    print(f\"An error occurred while loading the data: {e}\")"
      ]
    },
    {
      "cell_type": "code",
      "execution_count": null,
      "id": "a67b958f",
      "metadata": {
        "colab": {
          "base_uri": "https://localhost:8080/"
        },
        "id": "a67b958f",
        "outputId": "826186c6-7853-4630-b67c-cac921f6da14"
      },
      "outputs": [
        {
          "output_type": "stream",
          "name": "stdout",
          "text": [
            "Validated scores. Data shape after validation: (100000, 2)\n",
            "\n",
            "Processed DataFrame sample (for 1-5 stars):\n",
            "                                                text  labels\n",
            "0  These Grape Leaves are very thick and veiny an...       0\n",
            "1  I ordered this product and only received one b...       0\n",
            "2  I've been buying ZICO with mango in 11.2 oz. t...       0\n",
            "3  I am no stranger to health foods and even use ...       0\n",
            "4  Fisher Macadamia Nut No Salt, 2-Pound Package....       0\n",
            "\n",
            "Label distribution (0 corresponds to 1 star, 4 to 5 stars):\n",
            "labels\n",
            "0    20000\n",
            "1    20000\n",
            "2    20000\n",
            "3    20000\n",
            "4    20000\n",
            "Name: count, dtype: int64\n",
            "\n",
            "Dataset structure:\n",
            "DatasetDict({\n",
            "    train: Dataset({\n",
            "        features: ['text', 'labels'],\n",
            "        num_rows: 80000\n",
            "    })\n",
            "    test: Dataset({\n",
            "        features: ['text', 'labels'],\n",
            "        num_rows: 20000\n",
            "    })\n",
            "})\n"
          ]
        }
      ],
      "source": [
        "# 1. Handle missing values (if any) in the text column\n",
        "df = df.dropna(subset=[text_column, score_column]) # Also drop if score is missing\n",
        "df[text_column] = df[text_column].astype(str) # Ensure text is string\n",
        "\n",
        "# Ensure scores are integers and within the expected range (1-5)\n",
        "try:\n",
        "    df[score_column] = df[score_column].astype(int)\n",
        "    df = df[df[score_column].between(1, 5)] # Keep only scores 1 through 5\n",
        "    print(f\"Validated scores. Data shape after validation: {df.shape}\")\n",
        "except ValueError:\n",
        "    print(f\"Error: Could not convert '{score_column}' to integers. Please check data.\")\n",
        "    # Optional: Stop execution if scores are invalid\n",
        "    # raise SystemExit()\n",
        "\n",
        "# 2. ***** REMOVED: Filtering step for score 3 is GONE. We keep all scores. *****\n",
        "\n",
        "# 3. Create the label column (mapping 1-5 to 0-4)\n",
        "# Important: Trainer expects zero-indexed labels, so map Score 's' to Label 's-1'\n",
        "df['labels'] = df[score_column] - 1\n",
        "\n",
        "# 4. Select relevant columns\n",
        "df_final = df[[text_column, 'labels']].rename(columns={text_column: 'text'})\n",
        "\n",
        "print(\"\\nProcessed DataFrame sample (for 1-5 stars):\")\n",
        "print(df_final.head())\n",
        "print(\"\\nLabel distribution (0 corresponds to 1 star, 4 to 5 stars):\")\n",
        "# Sort index for clarity (0, 1, 2, 3, 4)\n",
        "print(df_final['labels'].value_counts().sort_index())\n",
        "\n",
        "# 5. Convert pandas DataFrame to Hugging Face Dataset\n",
        "hg_dataset = Dataset.from_pandas(df_final)\n",
        "\n",
        "# 6. Split into train and test sets\n",
        "train_test_split_dataset = hg_dataset.train_test_split(test_size=test_size, seed=random_state)\n",
        "\n",
        "# Create a DatasetDict structure\n",
        "dataset_dict = DatasetDict({\n",
        "    'train': train_test_split_dataset['train'],\n",
        "    'test': train_test_split_dataset['test']\n",
        "})\n",
        "\n",
        "print(\"\\nDataset structure:\")\n",
        "print(dataset_dict)"
      ]
    },
    {
      "cell_type": "code",
      "execution_count": null,
      "id": "69dc5c2f",
      "metadata": {
        "colab": {
          "base_uri": "https://localhost:8080/",
          "height": 986,
          "referenced_widgets": [
            "c7bae141d4a14d24923cf08a1256cc57",
            "517c81e5de9047e2b6a47b2aa0f3e0f0",
            "2d4ca4d2d8024028b49ae331bbe97899",
            "717719739b4e4f2c9f000c174e1c5403",
            "362ecf853c314a1aad9f6bb6f76d78dd",
            "afdfec46ba094355bfa6b8f096b422e9",
            "907ac30478ef4f18bb35bcc4e0739808",
            "5d78b09fd76e420183fbf00e3125af3e",
            "7e2521f35055433d9e7de469c4194592",
            "c844259c753c4eb2962d53210511f692",
            "095cebf5729c448299d2a0a8bbfea10c",
            "d370dc777c7a4f4eacbc6af12dc68767",
            "012996816ba24533b6ab7c2783f2f54f",
            "0cab6df4c6be42fd889244c84628d943",
            "1bab9ba7c4cd4413b54c6be11b2eb112",
            "b9f6d5f35308449f846455d4a54672f2",
            "9fb977c85c0d433e98c039ca4a9dc173",
            "ddbad438916140f0b0d1e90d1cfca1ef",
            "e3c40bad646f420aac98220f10d82412",
            "65be621e32fe4bbb84ef02ee6c604f53",
            "346632826b1d463eb39cb4ddebc22ca2",
            "cea534c5fb8e4397bde85b43506cb9d7"
          ]
        },
        "id": "69dc5c2f",
        "outputId": "2170e39d-3c20-458d-9ace-7cbf5ce6e906"
      },
      "outputs": [
        {
          "output_type": "stream",
          "name": "stdout",
          "text": [
            "Tokenizer loaded for model: distilbert-base-uncased\n"
          ]
        },
        {
          "output_type": "display_data",
          "data": {
            "text/plain": [
              "Map:   0%|          | 0/80000 [00:00<?, ? examples/s]"
            ],
            "application/vnd.jupyter.widget-view+json": {
              "version_major": 2,
              "version_minor": 0,
              "model_id": "c7bae141d4a14d24923cf08a1256cc57"
            }
          },
          "metadata": {}
        },
        {
          "output_type": "display_data",
          "data": {
            "text/plain": [
              "Map:   0%|          | 0/20000 [00:00<?, ? examples/s]"
            ],
            "application/vnd.jupyter.widget-view+json": {
              "version_major": 2,
              "version_minor": 0,
              "model_id": "d370dc777c7a4f4eacbc6af12dc68767"
            }
          },
          "metadata": {}
        },
        {
          "output_type": "stream",
          "name": "stdout",
          "text": [
            "\n",
            "Tokenized dataset structure:\n",
            "DatasetDict({\n",
            "    train: Dataset({\n",
            "        features: ['labels', 'input_ids', 'attention_mask'],\n",
            "        num_rows: 80000\n",
            "    })\n",
            "    test: Dataset({\n",
            "        features: ['labels', 'input_ids', 'attention_mask'],\n",
            "        num_rows: 20000\n",
            "    })\n",
            "})\n",
            "\n",
            "Example of tokenized input:\n",
            "{'labels': tensor(1), 'input_ids': tensor([  101,  1045,  2435,  2023,  2048,  3340,  2069,  2138,  1996,  7829,\n",
            "         2001,  2006,  2051,  1998,  1999,  1996,  2203,  9733, 25416,  8630,\n",
            "         2098,  2026,  2769,  1012,  2034,  2292,  2033,  2360,  2008,  2057,\n",
            "         4521,  5699,  2489,  9485,  2035,  1996,  2051,  1012,  1045,  1005,\n",
            "         1049,  1037,  2502,  5470,  1997,  3053,  2151,  5699,  2489,  2304,\n",
            "         5622, 27108,  6610,   999,  2026,  2391,  1999,  3038,  2023,  2003,\n",
            "         2008,  2057,  2024,  2025,  4895,  7011,  4328,  8017,  2007,  1996,\n",
            "         2825,  2124,  2217,  3896,  1997,  5699,  2489,  9485,  1998,  2070,\n",
            "         1997,  1996,  7976,  4086, 24454,  2015,  2008,  2024,  2109,  1999,\n",
            "         2068,  1012,  1045,  2031,  2069,  2412,  2018,  2019,  3277,  2007,\n",
            "         2151,  1997,  2068,  2043,  1045,  2058, 16678,  2068,  1010,  2029,\n",
            "         2087,  3688,  2425,  2017,  2157,  2006,  1996,  7427,  2025,  2000,\n",
            "         2079,  2061,  1012,  2122, 16031,  8029,  6468,  2174,  2024,  2242,\n",
            "         2200,  2200,  2367,  2013,  2505,  2057,  2031,  2412,  2699,  1010,\n",
            "         2057,  1005,  2310,  2130,  2018,  2060,  9639,  1997,  5699,  2489,\n",
            "        16031,  8029,  6468,  2302,  1996,  3471,  1045,  1005,  1049,  2055,\n",
            "         2000,  6235,  1012,  2057,  2024,  1037,  2155,  1997,  2274,  1010,\n",
            "         3904,  1997,  2149, 16678, 15514,  5699,  1010,  2061,  2043,  2057,\n",
            "         2131,  1996, 26369,  2005,  9485,  2057, 23569,  2005,  5699,  2489,\n",
            "         1012,  2467, 17145,  2043,  2667,  2047,  5699,  2489,  9440,  2035,\n",
            "         2274,  1997,  2149,  2938,  2091,  1998,  5632,  2054,  2057,  3373,\n",
            "         2000,  2022,  1037,  3529,  1012,  6436,  1999,  2568,  2045,  2003,\n",
            "         2053,  3529,  2946,  2006,  1996,  5025,  7427,  1012,  1045,  5071,\n",
            "         4873,  2090,  1022,  1011,  2321, 16031,  8029,  6468,  2052,  2022,\n",
            "         1037,  3671,  2946,  3529,  1012,  2057,  2787,  2000,  2031,  2321,\n",
            "         6468,  2169,  1012,  2009,  2790,   102]), 'attention_mask': tensor([1, 1, 1, 1, 1, 1, 1, 1, 1, 1, 1, 1, 1, 1, 1, 1, 1, 1, 1, 1, 1, 1, 1, 1,\n",
            "        1, 1, 1, 1, 1, 1, 1, 1, 1, 1, 1, 1, 1, 1, 1, 1, 1, 1, 1, 1, 1, 1, 1, 1,\n",
            "        1, 1, 1, 1, 1, 1, 1, 1, 1, 1, 1, 1, 1, 1, 1, 1, 1, 1, 1, 1, 1, 1, 1, 1,\n",
            "        1, 1, 1, 1, 1, 1, 1, 1, 1, 1, 1, 1, 1, 1, 1, 1, 1, 1, 1, 1, 1, 1, 1, 1,\n",
            "        1, 1, 1, 1, 1, 1, 1, 1, 1, 1, 1, 1, 1, 1, 1, 1, 1, 1, 1, 1, 1, 1, 1, 1,\n",
            "        1, 1, 1, 1, 1, 1, 1, 1, 1, 1, 1, 1, 1, 1, 1, 1, 1, 1, 1, 1, 1, 1, 1, 1,\n",
            "        1, 1, 1, 1, 1, 1, 1, 1, 1, 1, 1, 1, 1, 1, 1, 1, 1, 1, 1, 1, 1, 1, 1, 1,\n",
            "        1, 1, 1, 1, 1, 1, 1, 1, 1, 1, 1, 1, 1, 1, 1, 1, 1, 1, 1, 1, 1, 1, 1, 1,\n",
            "        1, 1, 1, 1, 1, 1, 1, 1, 1, 1, 1, 1, 1, 1, 1, 1, 1, 1, 1, 1, 1, 1, 1, 1,\n",
            "        1, 1, 1, 1, 1, 1, 1, 1, 1, 1, 1, 1, 1, 1, 1, 1, 1, 1, 1, 1, 1, 1, 1, 1,\n",
            "        1, 1, 1, 1, 1, 1, 1, 1, 1, 1, 1, 1, 1, 1, 1, 1])}\n"
          ]
        }
      ],
      "source": [
        "# === Cell 5: Tokenization ===\n",
        "\n",
        "if 'dataset_dict' in locals(): # Proceed only if datasets were created\n",
        "    # 1. Load tokenizer associated with the chosen model\n",
        "    tokenizer = AutoTokenizer.from_pretrained(model_name)\n",
        "    print(f\"Tokenizer loaded for model: {model_name}\")\n",
        "\n",
        "    # 2. Define tokenization function\n",
        "    def tokenize_function(examples):\n",
        "        # Padding='max_length' ensures all sequences have the same length.\n",
        "        # Truncation=True ensures sequences longer than model max length are cut.\n",
        "        # max_length can be adjusted (e.g., 128, 256, 512) based on review lengths and memory.\n",
        "        return tokenizer(examples[\"text\"], padding=\"max_length\", truncation=True, max_length=256)\n",
        "\n",
        "    # 3. Apply tokenization to the datasets\n",
        "    # batched=True processes multiple elements simultaenously for speed\n",
        "    tokenized_datasets = dataset_dict.map(tokenize_function, batched=True)\n",
        "\n",
        "    # Optional: Remove the original 'text' column as it's no longer needed after tokenization\n",
        "    tokenized_datasets = tokenized_datasets.remove_columns([\"text\"])\n",
        "    # Optional: Rename 'label' to 'labels' if you didn't do it earlier\n",
        "    # tokenized_datasets = tokenized_datasets.rename_column(\"label\", \"labels\") # Already done in Cell 4\n",
        "    # Set format for PyTorch\n",
        "    tokenized_datasets.set_format(\"torch\")\n",
        "\n",
        "    print(\"\\nTokenized dataset structure:\")\n",
        "    print(tokenized_datasets)\n",
        "    print(\"\\nExample of tokenized input:\")\n",
        "    print(tokenized_datasets['train'][0])\n",
        "else:\n",
        "    print(\"\\nSkipping tokenization as dataset creation failed.\")"
      ]
    },
    {
      "cell_type": "code",
      "execution_count": null,
      "id": "cefba6e6",
      "metadata": {
        "colab": {
          "base_uri": "https://localhost:8080/"
        },
        "id": "cefba6e6",
        "outputId": "5f49ae6c-18aa-4314-9bb3-e0b1e13514d9"
      },
      "outputs": [
        {
          "output_type": "stream",
          "name": "stderr",
          "text": [
            "Some weights of DistilBertForSequenceClassification were not initialized from the model checkpoint at distilbert-base-uncased and are newly initialized: ['classifier.bias', 'classifier.weight', 'pre_classifier.bias', 'pre_classifier.weight']\n",
            "You should probably TRAIN this model on a down-stream task to be able to use it for predictions and inference.\n"
          ]
        },
        {
          "output_type": "stream",
          "name": "stdout",
          "text": [
            "\n",
            "Model 'distilbert-base-uncased' loaded for sequence classification with 5 labels (for 1-5 stars).\n",
            "Model moved to device: cuda\n"
          ]
        }
      ],
      "source": [
        "# === Cell 6: Load Model ===\n",
        "if 'tokenized_datasets' in locals(): # Proceed only if tokenization succeeded\n",
        "    # Load the pre-trained model for sequence classification\n",
        "    # num_labels (now 5) tells the model how many output classes we have\n",
        "    model = AutoModelForSequenceClassification.from_pretrained(model_name, num_labels=num_labels)\n",
        "\n",
        "    # Move model to the appropriate device (GPU/MPS/CPU)\n",
        "    model.to(device)\n",
        "    print(f\"\\nModel '{model_name}' loaded for sequence classification with {num_labels} labels (for 1-5 stars).\")\n",
        "    print(f\"Model moved to device: {device}\")\n",
        "else:\n",
        "    print(\"\\nSkipping model loading as tokenization failed.\")"
      ]
    },
    {
      "cell_type": "code",
      "execution_count": null,
      "id": "6f5142e2",
      "metadata": {
        "colab": {
          "base_uri": "https://localhost:8080/"
        },
        "id": "6f5142e2",
        "outputId": "cb00d2d9-01f3-4eee-c355-6b5e1676fc84"
      },
      "outputs": [
        {
          "output_type": "stream",
          "name": "stdout",
          "text": [
            "Metrics computation function defined (for multi-class).\n"
          ]
        }
      ],
      "source": [
        "# === Cell 7: Define Metrics ===\n",
        "\n",
        "# Define a function to compute metrics during evaluation\n",
        "def compute_metrics(eval_pred):\n",
        "    logits, labels = eval_pred\n",
        "    predictions = np.argmax(logits, axis=-1)\n",
        "\n",
        "    # ***** CHANGED: Use 'weighted' averaging for multi-class F1/precision/recall *****\n",
        "    # 'weighted' accounts for label imbalance. Use 'macro' for unweighted average.\n",
        "    precision, recall, f1, _ = precision_recall_fscore_support(\n",
        "        labels, predictions, average='weighted'\n",
        "    )\n",
        "    acc = accuracy_score(labels, predictions)\n",
        "\n",
        "    return {\n",
        "        'accuracy': acc,\n",
        "        'f1': f1, # This is now weighted F1\n",
        "        'precision': precision, # Weighted Precision\n",
        "        'recall': recall # Weighted Recall\n",
        "    }\n",
        "\n",
        "print(\"Metrics computation function defined (for multi-class).\")"
      ]
    },
    {
      "cell_type": "code",
      "execution_count": null,
      "id": "a46b681c",
      "metadata": {
        "colab": {
          "base_uri": "https://localhost:8080/"
        },
        "id": "a46b681c",
        "outputId": "57677f26-1f8d-4032-994c-4757b351a8f1"
      },
      "outputs": [
        {
          "output_type": "stream",
          "name": "stdout",
          "text": [
            "TrainingArguments defined.\n"
          ]
        }
      ],
      "source": [
        "# === Cell 8: Training Arguments ===\n",
        "# No essential changes needed, but ensure output_dir/logging_dir are updated if desired (done in Cell 2)\n",
        "# Ensure metric_for_best_model ('f1' or 'accuracy') makes sense for multi-class. 'f1' (weighted) is often good.\n",
        "\n",
        "if 'model' in locals(): # Check if model loaded\n",
        "    training_args = TrainingArguments(\n",
        "        dataloader_num_workers=4,\n",
        "        output_dir=output_dir,                     # Directory to save model checkpoints (Updated in Cell 2)\n",
        "        num_train_epochs=num_train_epochs,         # Total number of training epochs (Updated in Cell 2)\n",
        "        per_device_train_batch_size=per_device_train_batch_size, # Batch size per device during training\n",
        "        per_device_eval_batch_size=per_device_eval_batch_size,   # Batch size for evaluation\n",
        "        learning_rate=learning_rate,               # Learning rate\n",
        "        weight_decay=weight_decay,                 # Strength of weight decay regularization\n",
        "        logging_dir=logging_dir,                   # Directory for storing logs (Updated in Cell 2)\n",
        "        logging_steps=50,                          # Log metrics every X updates steps\n",
        "        eval_strategy=\"epoch\",               # Evaluate performance at the end of each epoch\n",
        "        save_strategy=\"epoch\",                     # Save model checkpoint at the end of each epoch\n",
        "        load_best_model_at_end=True,               # Load the best model found during training at the end\n",
        "        metric_for_best_model=\"f1\",                # Use weighted F1 score to determine the best model\n",
        "        greater_is_better=True,                    # F1 score should be maximized\n",
        "        report_to=\"tensorboard\",                   # Report logs to TensorBoard\n",
        "        fp16=torch.cuda.is_available(),            # Use mixed precision (faster training on NVIDIA GPUs)\n",
        "    )\n",
        "\n",
        "    print(\"TrainingArguments defined.\")\n",
        "else:\n",
        "    print(\"\\nSkipping TrainingArguments definition as model loading failed.\")"
      ]
    },
    {
      "cell_type": "code",
      "execution_count": null,
      "id": "971a050a",
      "metadata": {
        "colab": {
          "base_uri": "https://localhost:8080/"
        },
        "id": "971a050a",
        "outputId": "f48bb76a-9bdf-4143-cbf4-8a4deec0bae5"
      },
      "outputs": [
        {
          "output_type": "stream",
          "name": "stdout",
          "text": [
            "Trainer initialized successfully.\n"
          ]
        }
      ],
      "source": [
        "# === Cell 9: Initialize Trainer ===\n",
        "# (Ensure this cell content is correct as previously provided)\n",
        "if 'model' in locals() and 'tokenized_datasets' in locals() and 'training_args' in locals():\n",
        "    trainer = Trainer(\n",
        "        model=model,\n",
        "        args=training_args, # Uses the corrected args from Cell 8\n",
        "        train_dataset=tokenized_datasets[\"train\"],\n",
        "        eval_dataset=tokenized_datasets[\"test\"],\n",
        "        tokenizer=tokenizer,\n",
        "        compute_metrics=compute_metrics\n",
        "    )\n",
        "    print(\"Trainer initialized successfully.\")\n",
        "else:\n",
        "    print(\"\\nSkipping Trainer initialization due to previous errors.\")"
      ]
    },
    {
      "cell_type": "code",
      "execution_count": null,
      "id": "8e56fa97",
      "metadata": {
        "colab": {
          "base_uri": "https://localhost:8080/",
          "height": 343
        },
        "id": "8e56fa97",
        "outputId": "a20a61c9-f740-411b-a5c3-aa5ddc84de0c"
      },
      "outputs": [
        {
          "output_type": "stream",
          "name": "stdout",
          "text": [
            "\n",
            "Starting model fine-tuning...\n"
          ]
        },
        {
          "output_type": "display_data",
          "data": {
            "text/plain": [
              "<IPython.core.display.HTML object>"
            ],
            "text/html": [
              "\n",
              "    <div>\n",
              "      \n",
              "      <progress value='1875' max='1875' style='width:300px; height:20px; vertical-align: middle;'></progress>\n",
              "      [1875/1875 22:04, Epoch 3/3]\n",
              "    </div>\n",
              "    <table border=\"1\" class=\"dataframe\">\n",
              "  <thead>\n",
              " <tr style=\"text-align: left;\">\n",
              "      <th>Epoch</th>\n",
              "      <th>Training Loss</th>\n",
              "      <th>Validation Loss</th>\n",
              "      <th>Accuracy</th>\n",
              "      <th>F1</th>\n",
              "      <th>Precision</th>\n",
              "      <th>Recall</th>\n",
              "    </tr>\n",
              "  </thead>\n",
              "  <tbody>\n",
              "    <tr>\n",
              "      <td>1</td>\n",
              "      <td>0.958900</td>\n",
              "      <td>0.926248</td>\n",
              "      <td>0.600800</td>\n",
              "      <td>0.596934</td>\n",
              "      <td>0.597110</td>\n",
              "      <td>0.600800</td>\n",
              "    </tr>\n",
              "    <tr>\n",
              "      <td>2</td>\n",
              "      <td>0.859400</td>\n",
              "      <td>0.878027</td>\n",
              "      <td>0.630750</td>\n",
              "      <td>0.628942</td>\n",
              "      <td>0.629586</td>\n",
              "      <td>0.630750</td>\n",
              "    </tr>\n",
              "    <tr>\n",
              "      <td>3</td>\n",
              "      <td>0.801300</td>\n",
              "      <td>0.870814</td>\n",
              "      <td>0.638900</td>\n",
              "      <td>0.637379</td>\n",
              "      <td>0.636560</td>\n",
              "      <td>0.638900</td>\n",
              "    </tr>\n",
              "  </tbody>\n",
              "</table><p>"
            ]
          },
          "metadata": {}
        },
        {
          "output_type": "stream",
          "name": "stdout",
          "text": [
            "Training finished.\n",
            "***** train metrics *****\n",
            "  epoch                    =        3.0\n",
            "  total_flos               = 14805177GF\n",
            "  train_loss               =     0.9143\n",
            "  train_runtime            = 0:22:05.28\n",
            "  train_samples_per_second =    181.093\n",
            "  train_steps_per_second   =      1.415\n"
          ]
        }
      ],
      "source": [
        "# === Cell 10: Fine-tuning ===\n",
        "# (Keep this cell as it was)\n",
        "if 'trainer' in locals():\n",
        "    print(\"\\nStarting model fine-tuning...\")\n",
        "    try:\n",
        "        train_result = trainer.train()\n",
        "        print(\"Training finished.\")\n",
        "        # Optional: Log some training metrics\n",
        "        metrics = train_result.metrics\n",
        "        trainer.log_metrics(\"train\", metrics)\n",
        "        # trainer.save_metrics(\"train\", metrics) # Can save if needed\n",
        "    except Exception as e:\n",
        "        print(f\"\\nAn error occurred during training: {e}\")\n",
        "        # If training itself fails here, the issue might be deeper (data, resources, model compatibility)\n",
        "else:\n",
        "    print(\"\\nSkipping training.\")"
      ]
    },
    {
      "cell_type": "code",
      "execution_count": null,
      "id": "63f75e67",
      "metadata": {
        "colab": {
          "base_uri": "https://localhost:8080/",
          "height": 317
        },
        "id": "63f75e67",
        "outputId": "8dd3300f-6995-42c3-bdf1-7a5ca45c9eef"
      },
      "outputs": [
        {
          "output_type": "stream",
          "name": "stdout",
          "text": [
            "\n",
            "Evaluating the model MANUALLY after training...\n"
          ]
        },
        {
          "output_type": "display_data",
          "data": {
            "text/plain": [
              "<IPython.core.display.HTML object>"
            ],
            "text/html": [
              "\n",
              "    <div>\n",
              "      \n",
              "      <progress value='79' max='79' style='width:300px; height:20px; vertical-align: middle;'></progress>\n",
              "      [79/79 00:33]\n",
              "    </div>\n",
              "    "
            ]
          },
          "metadata": {}
        },
        {
          "output_type": "stream",
          "name": "stdout",
          "text": [
            "\n",
            "Evaluation Results:\n",
            "{'eval_loss': 0.8708140850067139, 'eval_accuracy': 0.6389, 'eval_f1': 0.6373794969788612, 'eval_precision': 0.6365604928432186, 'eval_recall': 0.6389, 'eval_runtime': 34.2089, 'eval_samples_per_second': 584.643, 'eval_steps_per_second': 2.309, 'epoch': 3.0}\n",
            "***** eval metrics *****\n",
            "  epoch                   =        3.0\n",
            "  eval_accuracy           =     0.6389\n",
            "  eval_f1                 =     0.6374\n",
            "  eval_loss               =     0.8708\n",
            "  eval_precision          =     0.6366\n",
            "  eval_recall             =     0.6389\n",
            "  eval_runtime            = 0:00:34.20\n",
            "  eval_samples_per_second =    584.643\n",
            "  eval_steps_per_second   =      2.309\n"
          ]
        }
      ],
      "source": [
        "# === Cell 11: Evaluation ===\n",
        "if 'trainer' in locals():\n",
        "    print(\"\\nEvaluating the model MANUALLY after training...\")\n",
        "    try:\n",
        "        eval_results = trainer.evaluate() # Call evaluate() explicitly\n",
        "        print(\"\\nEvaluation Results:\")\n",
        "        print(eval_results)\n",
        "        trainer.log_metrics(\"eval\", eval_results)\n",
        "        trainer.save_metrics(\"eval\", eval_results) # Save metrics if desired\n",
        "    except Exception as e:\n",
        "        print(f\"\\nAn error occurred during manual evaluation: {e}\")\n",
        "else:\n",
        "    print(\"\\nSkipping manual evaluation as trainer not initialized.\")"
      ]
    },
    {
      "cell_type": "code",
      "source": [
        "# === Cell 12: Save the Final Model (Manual Call) ===\n",
        "if 'trainer' in locals():\n",
        "    final_model_dir = f\"{output_dir}/final_model\"\n",
        "    print(f\"\\nSaving the final model MANUALLY to {final_model_dir}...\")\n",
        "    try:\n",
        "        trainer.save_model(final_model_dir) # Call save_model() explicitly\n",
        "        # Tokenizer saved separately if needed (already done by pipeline loading later, but good practice)\n",
        "        # tokenizer.save_pretrained(final_model_dir)\n",
        "        print(f\"\\nFinal model state saved to {final_model_dir}\")\n",
        "    except Exception as e:\n",
        "        print(f\"\\nAn error occurred during manual model saving: {e}\")\n",
        "else:\n",
        "    print(\"\\nSkipping manual model saving as trainer not initialized.\")"
      ],
      "metadata": {
        "colab": {
          "base_uri": "https://localhost:8080/"
        },
        "id": "XmApiQX9qL0n",
        "outputId": "e62dda53-1ee6-41d0-b26f-54f910d5d8c6"
      },
      "id": "XmApiQX9qL0n",
      "execution_count": null,
      "outputs": [
        {
          "output_type": "stream",
          "name": "stdout",
          "text": [
            "\n",
            "Saving the final model MANUALLY to ./rating_model_50k_results/final_model...\n",
            "\n",
            "Final model state saved to ./rating_model_50k_results/final_model\n"
          ]
        }
      ]
    },
    {
      "cell_type": "code",
      "source": [],
      "metadata": {
        "id": "sGedKeCKtEKT"
      },
      "id": "sGedKeCKtEKT",
      "execution_count": null,
      "outputs": []
    }
  ],
  "metadata": {
    "kernelspec": {
      "display_name": "Python 3",
      "name": "python3"
    },
    "language_info": {
      "codemirror_mode": {
        "name": "ipython",
        "version": 3
      },
      "file_extension": ".py",
      "mimetype": "text/x-python",
      "name": "python",
      "nbconvert_exporter": "python",
      "pygments_lexer": "ipython3",
      "version": "3.9.7"
    },
    "colab": {
      "provenance": []
    },
    "widgets": {
      "application/vnd.jupyter.widget-state+json": {
        "c7bae141d4a14d24923cf08a1256cc57": {
          "model_module": "@jupyter-widgets/controls",
          "model_name": "HBoxModel",
          "model_module_version": "1.5.0",
          "state": {
            "_dom_classes": [],
            "_model_module": "@jupyter-widgets/controls",
            "_model_module_version": "1.5.0",
            "_model_name": "HBoxModel",
            "_view_count": null,
            "_view_module": "@jupyter-widgets/controls",
            "_view_module_version": "1.5.0",
            "_view_name": "HBoxView",
            "box_style": "",
            "children": [
              "IPY_MODEL_517c81e5de9047e2b6a47b2aa0f3e0f0",
              "IPY_MODEL_2d4ca4d2d8024028b49ae331bbe97899",
              "IPY_MODEL_717719739b4e4f2c9f000c174e1c5403"
            ],
            "layout": "IPY_MODEL_362ecf853c314a1aad9f6bb6f76d78dd"
          }
        },
        "517c81e5de9047e2b6a47b2aa0f3e0f0": {
          "model_module": "@jupyter-widgets/controls",
          "model_name": "HTMLModel",
          "model_module_version": "1.5.0",
          "state": {
            "_dom_classes": [],
            "_model_module": "@jupyter-widgets/controls",
            "_model_module_version": "1.5.0",
            "_model_name": "HTMLModel",
            "_view_count": null,
            "_view_module": "@jupyter-widgets/controls",
            "_view_module_version": "1.5.0",
            "_view_name": "HTMLView",
            "description": "",
            "description_tooltip": null,
            "layout": "IPY_MODEL_afdfec46ba094355bfa6b8f096b422e9",
            "placeholder": "​",
            "style": "IPY_MODEL_907ac30478ef4f18bb35bcc4e0739808",
            "value": "Map: 100%"
          }
        },
        "2d4ca4d2d8024028b49ae331bbe97899": {
          "model_module": "@jupyter-widgets/controls",
          "model_name": "FloatProgressModel",
          "model_module_version": "1.5.0",
          "state": {
            "_dom_classes": [],
            "_model_module": "@jupyter-widgets/controls",
            "_model_module_version": "1.5.0",
            "_model_name": "FloatProgressModel",
            "_view_count": null,
            "_view_module": "@jupyter-widgets/controls",
            "_view_module_version": "1.5.0",
            "_view_name": "ProgressView",
            "bar_style": "success",
            "description": "",
            "description_tooltip": null,
            "layout": "IPY_MODEL_5d78b09fd76e420183fbf00e3125af3e",
            "max": 80000,
            "min": 0,
            "orientation": "horizontal",
            "style": "IPY_MODEL_7e2521f35055433d9e7de469c4194592",
            "value": 80000
          }
        },
        "717719739b4e4f2c9f000c174e1c5403": {
          "model_module": "@jupyter-widgets/controls",
          "model_name": "HTMLModel",
          "model_module_version": "1.5.0",
          "state": {
            "_dom_classes": [],
            "_model_module": "@jupyter-widgets/controls",
            "_model_module_version": "1.5.0",
            "_model_name": "HTMLModel",
            "_view_count": null,
            "_view_module": "@jupyter-widgets/controls",
            "_view_module_version": "1.5.0",
            "_view_name": "HTMLView",
            "description": "",
            "description_tooltip": null,
            "layout": "IPY_MODEL_c844259c753c4eb2962d53210511f692",
            "placeholder": "​",
            "style": "IPY_MODEL_095cebf5729c448299d2a0a8bbfea10c",
            "value": " 80000/80000 [00:34&lt;00:00, 2531.10 examples/s]"
          }
        },
        "362ecf853c314a1aad9f6bb6f76d78dd": {
          "model_module": "@jupyter-widgets/base",
          "model_name": "LayoutModel",
          "model_module_version": "1.2.0",
          "state": {
            "_model_module": "@jupyter-widgets/base",
            "_model_module_version": "1.2.0",
            "_model_name": "LayoutModel",
            "_view_count": null,
            "_view_module": "@jupyter-widgets/base",
            "_view_module_version": "1.2.0",
            "_view_name": "LayoutView",
            "align_content": null,
            "align_items": null,
            "align_self": null,
            "border": null,
            "bottom": null,
            "display": null,
            "flex": null,
            "flex_flow": null,
            "grid_area": null,
            "grid_auto_columns": null,
            "grid_auto_flow": null,
            "grid_auto_rows": null,
            "grid_column": null,
            "grid_gap": null,
            "grid_row": null,
            "grid_template_areas": null,
            "grid_template_columns": null,
            "grid_template_rows": null,
            "height": null,
            "justify_content": null,
            "justify_items": null,
            "left": null,
            "margin": null,
            "max_height": null,
            "max_width": null,
            "min_height": null,
            "min_width": null,
            "object_fit": null,
            "object_position": null,
            "order": null,
            "overflow": null,
            "overflow_x": null,
            "overflow_y": null,
            "padding": null,
            "right": null,
            "top": null,
            "visibility": null,
            "width": null
          }
        },
        "afdfec46ba094355bfa6b8f096b422e9": {
          "model_module": "@jupyter-widgets/base",
          "model_name": "LayoutModel",
          "model_module_version": "1.2.0",
          "state": {
            "_model_module": "@jupyter-widgets/base",
            "_model_module_version": "1.2.0",
            "_model_name": "LayoutModel",
            "_view_count": null,
            "_view_module": "@jupyter-widgets/base",
            "_view_module_version": "1.2.0",
            "_view_name": "LayoutView",
            "align_content": null,
            "align_items": null,
            "align_self": null,
            "border": null,
            "bottom": null,
            "display": null,
            "flex": null,
            "flex_flow": null,
            "grid_area": null,
            "grid_auto_columns": null,
            "grid_auto_flow": null,
            "grid_auto_rows": null,
            "grid_column": null,
            "grid_gap": null,
            "grid_row": null,
            "grid_template_areas": null,
            "grid_template_columns": null,
            "grid_template_rows": null,
            "height": null,
            "justify_content": null,
            "justify_items": null,
            "left": null,
            "margin": null,
            "max_height": null,
            "max_width": null,
            "min_height": null,
            "min_width": null,
            "object_fit": null,
            "object_position": null,
            "order": null,
            "overflow": null,
            "overflow_x": null,
            "overflow_y": null,
            "padding": null,
            "right": null,
            "top": null,
            "visibility": null,
            "width": null
          }
        },
        "907ac30478ef4f18bb35bcc4e0739808": {
          "model_module": "@jupyter-widgets/controls",
          "model_name": "DescriptionStyleModel",
          "model_module_version": "1.5.0",
          "state": {
            "_model_module": "@jupyter-widgets/controls",
            "_model_module_version": "1.5.0",
            "_model_name": "DescriptionStyleModel",
            "_view_count": null,
            "_view_module": "@jupyter-widgets/base",
            "_view_module_version": "1.2.0",
            "_view_name": "StyleView",
            "description_width": ""
          }
        },
        "5d78b09fd76e420183fbf00e3125af3e": {
          "model_module": "@jupyter-widgets/base",
          "model_name": "LayoutModel",
          "model_module_version": "1.2.0",
          "state": {
            "_model_module": "@jupyter-widgets/base",
            "_model_module_version": "1.2.0",
            "_model_name": "LayoutModel",
            "_view_count": null,
            "_view_module": "@jupyter-widgets/base",
            "_view_module_version": "1.2.0",
            "_view_name": "LayoutView",
            "align_content": null,
            "align_items": null,
            "align_self": null,
            "border": null,
            "bottom": null,
            "display": null,
            "flex": null,
            "flex_flow": null,
            "grid_area": null,
            "grid_auto_columns": null,
            "grid_auto_flow": null,
            "grid_auto_rows": null,
            "grid_column": null,
            "grid_gap": null,
            "grid_row": null,
            "grid_template_areas": null,
            "grid_template_columns": null,
            "grid_template_rows": null,
            "height": null,
            "justify_content": null,
            "justify_items": null,
            "left": null,
            "margin": null,
            "max_height": null,
            "max_width": null,
            "min_height": null,
            "min_width": null,
            "object_fit": null,
            "object_position": null,
            "order": null,
            "overflow": null,
            "overflow_x": null,
            "overflow_y": null,
            "padding": null,
            "right": null,
            "top": null,
            "visibility": null,
            "width": null
          }
        },
        "7e2521f35055433d9e7de469c4194592": {
          "model_module": "@jupyter-widgets/controls",
          "model_name": "ProgressStyleModel",
          "model_module_version": "1.5.0",
          "state": {
            "_model_module": "@jupyter-widgets/controls",
            "_model_module_version": "1.5.0",
            "_model_name": "ProgressStyleModel",
            "_view_count": null,
            "_view_module": "@jupyter-widgets/base",
            "_view_module_version": "1.2.0",
            "_view_name": "StyleView",
            "bar_color": null,
            "description_width": ""
          }
        },
        "c844259c753c4eb2962d53210511f692": {
          "model_module": "@jupyter-widgets/base",
          "model_name": "LayoutModel",
          "model_module_version": "1.2.0",
          "state": {
            "_model_module": "@jupyter-widgets/base",
            "_model_module_version": "1.2.0",
            "_model_name": "LayoutModel",
            "_view_count": null,
            "_view_module": "@jupyter-widgets/base",
            "_view_module_version": "1.2.0",
            "_view_name": "LayoutView",
            "align_content": null,
            "align_items": null,
            "align_self": null,
            "border": null,
            "bottom": null,
            "display": null,
            "flex": null,
            "flex_flow": null,
            "grid_area": null,
            "grid_auto_columns": null,
            "grid_auto_flow": null,
            "grid_auto_rows": null,
            "grid_column": null,
            "grid_gap": null,
            "grid_row": null,
            "grid_template_areas": null,
            "grid_template_columns": null,
            "grid_template_rows": null,
            "height": null,
            "justify_content": null,
            "justify_items": null,
            "left": null,
            "margin": null,
            "max_height": null,
            "max_width": null,
            "min_height": null,
            "min_width": null,
            "object_fit": null,
            "object_position": null,
            "order": null,
            "overflow": null,
            "overflow_x": null,
            "overflow_y": null,
            "padding": null,
            "right": null,
            "top": null,
            "visibility": null,
            "width": null
          }
        },
        "095cebf5729c448299d2a0a8bbfea10c": {
          "model_module": "@jupyter-widgets/controls",
          "model_name": "DescriptionStyleModel",
          "model_module_version": "1.5.0",
          "state": {
            "_model_module": "@jupyter-widgets/controls",
            "_model_module_version": "1.5.0",
            "_model_name": "DescriptionStyleModel",
            "_view_count": null,
            "_view_module": "@jupyter-widgets/base",
            "_view_module_version": "1.2.0",
            "_view_name": "StyleView",
            "description_width": ""
          }
        },
        "d370dc777c7a4f4eacbc6af12dc68767": {
          "model_module": "@jupyter-widgets/controls",
          "model_name": "HBoxModel",
          "model_module_version": "1.5.0",
          "state": {
            "_dom_classes": [],
            "_model_module": "@jupyter-widgets/controls",
            "_model_module_version": "1.5.0",
            "_model_name": "HBoxModel",
            "_view_count": null,
            "_view_module": "@jupyter-widgets/controls",
            "_view_module_version": "1.5.0",
            "_view_name": "HBoxView",
            "box_style": "",
            "children": [
              "IPY_MODEL_012996816ba24533b6ab7c2783f2f54f",
              "IPY_MODEL_0cab6df4c6be42fd889244c84628d943",
              "IPY_MODEL_1bab9ba7c4cd4413b54c6be11b2eb112"
            ],
            "layout": "IPY_MODEL_b9f6d5f35308449f846455d4a54672f2"
          }
        },
        "012996816ba24533b6ab7c2783f2f54f": {
          "model_module": "@jupyter-widgets/controls",
          "model_name": "HTMLModel",
          "model_module_version": "1.5.0",
          "state": {
            "_dom_classes": [],
            "_model_module": "@jupyter-widgets/controls",
            "_model_module_version": "1.5.0",
            "_model_name": "HTMLModel",
            "_view_count": null,
            "_view_module": "@jupyter-widgets/controls",
            "_view_module_version": "1.5.0",
            "_view_name": "HTMLView",
            "description": "",
            "description_tooltip": null,
            "layout": "IPY_MODEL_9fb977c85c0d433e98c039ca4a9dc173",
            "placeholder": "​",
            "style": "IPY_MODEL_ddbad438916140f0b0d1e90d1cfca1ef",
            "value": "Map: 100%"
          }
        },
        "0cab6df4c6be42fd889244c84628d943": {
          "model_module": "@jupyter-widgets/controls",
          "model_name": "FloatProgressModel",
          "model_module_version": "1.5.0",
          "state": {
            "_dom_classes": [],
            "_model_module": "@jupyter-widgets/controls",
            "_model_module_version": "1.5.0",
            "_model_name": "FloatProgressModel",
            "_view_count": null,
            "_view_module": "@jupyter-widgets/controls",
            "_view_module_version": "1.5.0",
            "_view_name": "ProgressView",
            "bar_style": "success",
            "description": "",
            "description_tooltip": null,
            "layout": "IPY_MODEL_e3c40bad646f420aac98220f10d82412",
            "max": 20000,
            "min": 0,
            "orientation": "horizontal",
            "style": "IPY_MODEL_65be621e32fe4bbb84ef02ee6c604f53",
            "value": 20000
          }
        },
        "1bab9ba7c4cd4413b54c6be11b2eb112": {
          "model_module": "@jupyter-widgets/controls",
          "model_name": "HTMLModel",
          "model_module_version": "1.5.0",
          "state": {
            "_dom_classes": [],
            "_model_module": "@jupyter-widgets/controls",
            "_model_module_version": "1.5.0",
            "_model_name": "HTMLModel",
            "_view_count": null,
            "_view_module": "@jupyter-widgets/controls",
            "_view_module_version": "1.5.0",
            "_view_name": "HTMLView",
            "description": "",
            "description_tooltip": null,
            "layout": "IPY_MODEL_346632826b1d463eb39cb4ddebc22ca2",
            "placeholder": "​",
            "style": "IPY_MODEL_cea534c5fb8e4397bde85b43506cb9d7",
            "value": " 20000/20000 [00:08&lt;00:00, 1917.28 examples/s]"
          }
        },
        "b9f6d5f35308449f846455d4a54672f2": {
          "model_module": "@jupyter-widgets/base",
          "model_name": "LayoutModel",
          "model_module_version": "1.2.0",
          "state": {
            "_model_module": "@jupyter-widgets/base",
            "_model_module_version": "1.2.0",
            "_model_name": "LayoutModel",
            "_view_count": null,
            "_view_module": "@jupyter-widgets/base",
            "_view_module_version": "1.2.0",
            "_view_name": "LayoutView",
            "align_content": null,
            "align_items": null,
            "align_self": null,
            "border": null,
            "bottom": null,
            "display": null,
            "flex": null,
            "flex_flow": null,
            "grid_area": null,
            "grid_auto_columns": null,
            "grid_auto_flow": null,
            "grid_auto_rows": null,
            "grid_column": null,
            "grid_gap": null,
            "grid_row": null,
            "grid_template_areas": null,
            "grid_template_columns": null,
            "grid_template_rows": null,
            "height": null,
            "justify_content": null,
            "justify_items": null,
            "left": null,
            "margin": null,
            "max_height": null,
            "max_width": null,
            "min_height": null,
            "min_width": null,
            "object_fit": null,
            "object_position": null,
            "order": null,
            "overflow": null,
            "overflow_x": null,
            "overflow_y": null,
            "padding": null,
            "right": null,
            "top": null,
            "visibility": null,
            "width": null
          }
        },
        "9fb977c85c0d433e98c039ca4a9dc173": {
          "model_module": "@jupyter-widgets/base",
          "model_name": "LayoutModel",
          "model_module_version": "1.2.0",
          "state": {
            "_model_module": "@jupyter-widgets/base",
            "_model_module_version": "1.2.0",
            "_model_name": "LayoutModel",
            "_view_count": null,
            "_view_module": "@jupyter-widgets/base",
            "_view_module_version": "1.2.0",
            "_view_name": "LayoutView",
            "align_content": null,
            "align_items": null,
            "align_self": null,
            "border": null,
            "bottom": null,
            "display": null,
            "flex": null,
            "flex_flow": null,
            "grid_area": null,
            "grid_auto_columns": null,
            "grid_auto_flow": null,
            "grid_auto_rows": null,
            "grid_column": null,
            "grid_gap": null,
            "grid_row": null,
            "grid_template_areas": null,
            "grid_template_columns": null,
            "grid_template_rows": null,
            "height": null,
            "justify_content": null,
            "justify_items": null,
            "left": null,
            "margin": null,
            "max_height": null,
            "max_width": null,
            "min_height": null,
            "min_width": null,
            "object_fit": null,
            "object_position": null,
            "order": null,
            "overflow": null,
            "overflow_x": null,
            "overflow_y": null,
            "padding": null,
            "right": null,
            "top": null,
            "visibility": null,
            "width": null
          }
        },
        "ddbad438916140f0b0d1e90d1cfca1ef": {
          "model_module": "@jupyter-widgets/controls",
          "model_name": "DescriptionStyleModel",
          "model_module_version": "1.5.0",
          "state": {
            "_model_module": "@jupyter-widgets/controls",
            "_model_module_version": "1.5.0",
            "_model_name": "DescriptionStyleModel",
            "_view_count": null,
            "_view_module": "@jupyter-widgets/base",
            "_view_module_version": "1.2.0",
            "_view_name": "StyleView",
            "description_width": ""
          }
        },
        "e3c40bad646f420aac98220f10d82412": {
          "model_module": "@jupyter-widgets/base",
          "model_name": "LayoutModel",
          "model_module_version": "1.2.0",
          "state": {
            "_model_module": "@jupyter-widgets/base",
            "_model_module_version": "1.2.0",
            "_model_name": "LayoutModel",
            "_view_count": null,
            "_view_module": "@jupyter-widgets/base",
            "_view_module_version": "1.2.0",
            "_view_name": "LayoutView",
            "align_content": null,
            "align_items": null,
            "align_self": null,
            "border": null,
            "bottom": null,
            "display": null,
            "flex": null,
            "flex_flow": null,
            "grid_area": null,
            "grid_auto_columns": null,
            "grid_auto_flow": null,
            "grid_auto_rows": null,
            "grid_column": null,
            "grid_gap": null,
            "grid_row": null,
            "grid_template_areas": null,
            "grid_template_columns": null,
            "grid_template_rows": null,
            "height": null,
            "justify_content": null,
            "justify_items": null,
            "left": null,
            "margin": null,
            "max_height": null,
            "max_width": null,
            "min_height": null,
            "min_width": null,
            "object_fit": null,
            "object_position": null,
            "order": null,
            "overflow": null,
            "overflow_x": null,
            "overflow_y": null,
            "padding": null,
            "right": null,
            "top": null,
            "visibility": null,
            "width": null
          }
        },
        "65be621e32fe4bbb84ef02ee6c604f53": {
          "model_module": "@jupyter-widgets/controls",
          "model_name": "ProgressStyleModel",
          "model_module_version": "1.5.0",
          "state": {
            "_model_module": "@jupyter-widgets/controls",
            "_model_module_version": "1.5.0",
            "_model_name": "ProgressStyleModel",
            "_view_count": null,
            "_view_module": "@jupyter-widgets/base",
            "_view_module_version": "1.2.0",
            "_view_name": "StyleView",
            "bar_color": null,
            "description_width": ""
          }
        },
        "346632826b1d463eb39cb4ddebc22ca2": {
          "model_module": "@jupyter-widgets/base",
          "model_name": "LayoutModel",
          "model_module_version": "1.2.0",
          "state": {
            "_model_module": "@jupyter-widgets/base",
            "_model_module_version": "1.2.0",
            "_model_name": "LayoutModel",
            "_view_count": null,
            "_view_module": "@jupyter-widgets/base",
            "_view_module_version": "1.2.0",
            "_view_name": "LayoutView",
            "align_content": null,
            "align_items": null,
            "align_self": null,
            "border": null,
            "bottom": null,
            "display": null,
            "flex": null,
            "flex_flow": null,
            "grid_area": null,
            "grid_auto_columns": null,
            "grid_auto_flow": null,
            "grid_auto_rows": null,
            "grid_column": null,
            "grid_gap": null,
            "grid_row": null,
            "grid_template_areas": null,
            "grid_template_columns": null,
            "grid_template_rows": null,
            "height": null,
            "justify_content": null,
            "justify_items": null,
            "left": null,
            "margin": null,
            "max_height": null,
            "max_width": null,
            "min_height": null,
            "min_width": null,
            "object_fit": null,
            "object_position": null,
            "order": null,
            "overflow": null,
            "overflow_x": null,
            "overflow_y": null,
            "padding": null,
            "right": null,
            "top": null,
            "visibility": null,
            "width": null
          }
        },
        "cea534c5fb8e4397bde85b43506cb9d7": {
          "model_module": "@jupyter-widgets/controls",
          "model_name": "DescriptionStyleModel",
          "model_module_version": "1.5.0",
          "state": {
            "_model_module": "@jupyter-widgets/controls",
            "_model_module_version": "1.5.0",
            "_model_name": "DescriptionStyleModel",
            "_view_count": null,
            "_view_module": "@jupyter-widgets/base",
            "_view_module_version": "1.2.0",
            "_view_name": "StyleView",
            "description_width": ""
          }
        }
      }
    }
  },
  "nbformat": 4,
  "nbformat_minor": 5
}
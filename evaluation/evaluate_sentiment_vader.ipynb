{
 "cells": [
  {
   "cell_type": "markdown",
   "metadata": {},
   "source": [
    "# VADER Sentiment Analysis Evaluation\n",
    "This notebook evaluates sentiment scores using VADER sentiment analysis, mapping VADER's compound score to a numerical scale from 1 to 5."
   ]
  },
  {
   "cell_type": "code",
   "execution_count": null,
   "metadata": {},
   "outputs": [],
   "source": [
    "import os\n",
    "import pandas as pd\n",
    "import logging\n",
    "from vaderSentiment.vaderSentiment import SentimentIntensityAnalyzer\n",
    "\n",
    "# Configure logging\n",
    "logging.basicConfig(level=logging.INFO, format='%(asctime)s - %(levelname)s - %(message)s')\n",
    "\n",
    "# Initialize the VADER sentiment analyzer\n",
    "analyzer = SentimentIntensityAnalyzer()\n",
    "\n",
    "# Function to convert VADER compound score (in [-1,1]) to a scale of 1 to 5\n",
    "def convert_compound_to_score(compound):\n",
    "    # Map -1 to 1 and 1 to 5; compound 0 maps to 3.\n",
    "    return round(((compound + 1) / 2) * 4 + 1)\n",
    "\n",
    "logging.info('VADER Sentiment Analyzer initialized.')"
   ]
  },
  {
   "cell_type": "code",
   "execution_count": null,
   "metadata": {},
   "outputs": [],
   "source": [
    "# Load the sentiment analysis dataset\n",
    "project_root = os.path.dirname(os.path.dirname(os.path.abspath('__file__')))\n",
    "dataset_path = os.path.join(project_root, 'data', 'Cleaned_data', 'sentiment_analysis.csv')\n",
    "df = pd.read_csv(dataset_path)\n",
    "logging.info(f'Loaded dataset with {len(df)} samples.')\n",
    "\n",
    "# Evaluate sentiment for each text entry using VADER\n",
    "predictions = []\n",
    "for _, row in df.iterrows():\n",
    "    text = row['Text']\n",
    "    actual_score = row['Score']  # Expected to be between 1 and 5\n",
    "    vs = analyzer.polarity_scores(text)\n",
    "    compound = vs['compound']\n",
    "    predicted_score = convert_compound_to_score(compound)\n",
    "    predictions.append({\n",
    "        'text': text,\n",
    "        'actual_score': actual_score,\n",
    "        'predicted_score': predicted_score\n",
    "    })\n",
    "\n",
    "predictions_df = pd.DataFrame(predictions)\n",
    "\n",
    "# Save individual VADER predictions\n",
    "results_dir = os.path.join(project_root, 'evaluation', 'results')\n",
    "os.makedirs(results_dir, exist_ok=True)\n",
    "predictions_output_path = os.path.join(results_dir, 'vader_sentiment_predictions.csv')\n",
    "predictions_df.to_csv(predictions_output_path, index=False)\n",
    "logging.info(f'VADER predictions saved to {predictions_output_path}')"
   ]
  },
  {
   "cell_type": "code",
   "execution_count": null,
   "metadata": {},
   "outputs": [],
   "source": []
  }
 ],
 "metadata": {
  "language_info": {
   "name": "python"
  }
 },
 "nbformat": 4,
 "nbformat_minor": 5
}

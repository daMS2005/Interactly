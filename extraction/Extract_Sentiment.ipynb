{
 "cells": [
  {
   "cell_type": "code",
   "execution_count": 11,
   "id": "71938262",
   "metadata": {},
   "outputs": [],
   "source": [
    "import pandas as pd\n",
    "import json\n"
   ]
  },
  {
   "cell_type": "code",
   "execution_count": 12,
   "id": "9990dce0",
   "metadata": {},
   "outputs": [],
   "source": [
    "file_path = \"../data/Input_Data/reviews_cut.csv\"\n",
    "\n",
    "df = pd.read_csv(file_path, encoding=\"utf-8\")"
   ]
  },
  {
   "cell_type": "code",
   "execution_count": 13,
   "id": "b6fce8b6",
   "metadata": {},
   "outputs": [
    {
     "name": "stderr",
     "output_type": "stream",
     "text": [
      "/var/folders/vf/8lrprqk11hz2bkqcjw1nt4880000gn/T/ipykernel_47516/3161247751.py:2: DeprecationWarning: DataFrameGroupBy.apply operated on the grouping columns. This behavior is deprecated, and in a future version of pandas the grouping columns will be excluded from the operation. Either pass `include_groups=False` to exclude the groupings or explicitly select the grouping columns after groupby to silence this warning.\n",
      "  df = df.groupby(\"Score\").apply(lambda x: x.sample(20000)).reset_index(drop=True)\n"
     ]
    }
   ],
   "source": [
    "# Get 2000 of each score to train\n",
    "df = df.groupby(\"Score\").apply(lambda x: x.sample(20000)).reset_index(drop=True)"
   ]
  },
  {
   "cell_type": "code",
   "execution_count": 14,
   "id": "98abe3dd",
   "metadata": {},
   "outputs": [],
   "source": [
    "df.to_csv(\"../data/Cleaned_Data/sentiment_analysis_100k.csv\", index=False)"
   ]
  },
  {
   "cell_type": "code",
   "execution_count": 16,
   "metadata": {},
   "outputs": [
    {
     "name": "stdout",
     "output_type": "stream",
     "text": [
      "   Score                                               Text\n",
      "0      1  These Grape Leaves are very thick and veiny an...\n",
      "1      1  I ordered this product and only received one b...\n",
      "2      1  I've been buying ZICO with mango in 11.2 oz. t...\n",
      "3      1  I am no stranger to health foods and even use ...\n",
      "4      1  Fisher Macadamia Nut No Salt, 2-Pound Package....\n",
      "(100000, 2)\n",
      "Score\n",
      "1    20000\n",
      "2    20000\n",
      "3    20000\n",
      "4    20000\n",
      "5    20000\n",
      "Name: count, dtype: int64\n"
     ]
    }
   ],
   "source": [
    "print(df.head())\n",
    "print(df.shape)\n",
    "print(df[\"Score\"].value_counts())"
   ]
  },
  {
   "cell_type": "code",
   "execution_count": null,
   "metadata": {},
   "outputs": [],
   "source": []
  }
 ],
 "metadata": {
  "kernelspec": {
   "display_name": "Python 3",
   "language": "python",
   "name": "python3"
  },
  "language_info": {
   "codemirror_mode": {
    "name": "ipython",
    "version": 3
   },
   "file_extension": ".py",
   "mimetype": "text/x-python",
   "name": "python",
   "nbconvert_exporter": "python",
   "pygments_lexer": "ipython3",
   "version": "3.9.7"
  }
 },
 "nbformat": 4,
 "nbformat_minor": 5
}

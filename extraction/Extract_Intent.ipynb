{
 "cells": [
  {
   "cell_type": "code",
   "execution_count": 1,
   "id": "5433d9f8",
   "metadata": {},
   "outputs": [],
   "source": [
    "import pandas as pd"
   ]
  },
  {
   "cell_type": "code",
   "execution_count": 13,
   "id": "b4a2d5c8",
   "metadata": {},
   "outputs": [],
   "source": [
    "file = \"../data/Input_Data/Customer_Service_Training_Dataset.csv\"\n",
    "\n",
    "df = pd.read_csv(file, encoding=\"ISO-8859-1\")"
   ]
  },
  {
   "cell_type": "code",
   "execution_count": 14,
   "id": "78b961f4",
   "metadata": {},
   "outputs": [
    {
     "name": "stdout",
     "output_type": "stream",
     "text": [
      "<class 'pandas.core.frame.DataFrame'>\n",
      "RangeIndex: 6539 entries, 0 to 6538\n",
      "Data columns (total 4 columns):\n",
      " #   Column     Non-Null Count  Dtype \n",
      "---  ------     --------------  ----- \n",
      " 0   utterance  6539 non-null   object\n",
      " 1   intent     6539 non-null   object\n",
      " 2   category   6539 non-null   object\n",
      " 3   tags       6539 non-null   object\n",
      "dtypes: object(4)\n",
      "memory usage: 204.5+ KB\n"
     ]
    }
   ],
   "source": [
    "df.info()"
   ]
  },
  {
   "cell_type": "code",
   "execution_count": 15,
   "id": "3f81fc7f",
   "metadata": {},
   "outputs": [
    {
     "data": {
      "text/plain": [
       "category\n",
       "ACCOUNT             1412\n",
       "ORDER                966\n",
       "REFUND               718\n",
       "INVOICE              526\n",
       "PAYMENT              509\n",
       "FEEDBACK             500\n",
       "CONTACT              478\n",
       "SHIPPING_ADDRESS     474\n",
       "DELIVERY             472\n",
       "CANCELLATION_FEE     246\n",
       "NEWSLETTER           238\n",
       "Name: count, dtype: int64"
      ]
     },
     "execution_count": 15,
     "metadata": {},
     "output_type": "execute_result"
    }
   ],
   "source": [
    "df['category'].value_counts()"
   ]
  },
  {
   "cell_type": "code",
   "execution_count": 16,
   "id": "0cc6fda8",
   "metadata": {},
   "outputs": [],
   "source": [
    "# Filter for categories of type PAYMENT, FEEDBACK, CONTACT, REFUND\n",
    "df = df[df['category'].isin(['PAYMENT', 'FEEDBACK', 'CONTACT', 'REFUND'])]\n",
    "\n",
    "\n",
    "# Convert the values of each category to title case\n",
    "def to_title_case(text):\n",
    "    return text.title()\n",
    "\n",
    "# Apply the function to the 'category' column\n",
    "df['category'] = df['category'].apply(to_title_case)\n"
   ]
  },
  {
   "cell_type": "code",
   "execution_count": 17,
   "id": "ac9320bd",
   "metadata": {},
   "outputs": [
    {
     "name": "stdout",
     "output_type": "stream",
     "text": [
      "category\n",
      "Refund      718\n",
      "Payment     509\n",
      "Feedback    500\n",
      "Contact     478\n",
      "Name: count, dtype: int64\n"
     ]
    }
   ],
   "source": [
    "print(df['category'].value_counts())"
   ]
  },
  {
   "cell_type": "code",
   "execution_count": 18,
   "id": "3e28950b",
   "metadata": {},
   "outputs": [
    {
     "name": "stdout",
     "output_type": "stream",
     "text": [
      "                                              utterance  \\\n",
      "1210      i dont know how i can see the payment options   \n",
      "1211    could you show me your allowed payment methods?   \n",
      "1212  want assistance checking the available payment...   \n",
      "1213  i do not know how i can check the avaqilable p...   \n",
      "1214  I want assistance to check your allowed paymen...   \n",
      "\n",
      "                     intent category   tags  \n",
      "1210  check_payment_methods  Payment    BLQ  \n",
      "1211  check_payment_methods  Payment    BIP  \n",
      "1212  check_payment_methods  Payment    BLQ  \n",
      "1213  check_payment_methods  Payment  BELQZ  \n",
      "1214  check_payment_methods  Payment      B  \n"
     ]
    }
   ],
   "source": [
    "print(df.head())"
   ]
  },
  {
   "cell_type": "code",
   "execution_count": 20,
   "id": "135234fe",
   "metadata": {},
   "outputs": [
    {
     "name": "stderr",
     "output_type": "stream",
     "text": [
      "/var/folders/vf/8lrprqk11hz2bkqcjw1nt4880000gn/T/ipykernel_97533/2173982338.py:5: SettingWithCopyWarning: \n",
      "A value is trying to be set on a copy of a slice from a DataFrame\n",
      "\n",
      "See the caveats in the documentation: https://pandas.pydata.org/pandas-docs/stable/user_guide/indexing.html#returning-a-view-versus-a-copy\n",
      "  df.rename(columns={'utterance': 'text', 'category': 'intent'}, inplace=True)\n"
     ]
    }
   ],
   "source": [
    "# Remove all other columns\n",
    "df = df[['utterance', 'category']]\n",
    "\n",
    "# Change name of the column utterance to \"text\" and category to \"intent\"\n",
    "df.rename(columns={'utterance': 'text', 'category': 'intent'}, inplace=True)\n"
   ]
  },
  {
   "cell_type": "code",
   "execution_count": 21,
   "id": "2b23b122",
   "metadata": {},
   "outputs": [],
   "source": [
    "# Save the cleaned DataFrame to a new CSV file\n",
    "df.to_csv('../data/Cleaned_Data/intent_dataset.csv', index=False)"
   ]
  },
  {
   "cell_type": "code",
   "execution_count": null,
   "id": "cac81f7a",
   "metadata": {},
   "outputs": [],
   "source": [
    "# Since there are 2000 rows in the dataset, we will sample all 4 categories to have 200 rows each\n",
    "df = df.groupby('intent').apply(lambda x: x.sample(n=200, random_state=1)).reset_index(drop=True)"
   ]
  }
 ],
 "metadata": {
  "kernelspec": {
   "display_name": "Python 3",
   "language": "python",
   "name": "python3"
  },
  "language_info": {
   "codemirror_mode": {
    "name": "ipython",
    "version": 3
   },
   "file_extension": ".py",
   "mimetype": "text/x-python",
   "name": "python",
   "nbconvert_exporter": "python",
   "pygments_lexer": "ipython3",
   "version": "3.9.7"
  }
 },
 "nbformat": 4,
 "nbformat_minor": 5
}
